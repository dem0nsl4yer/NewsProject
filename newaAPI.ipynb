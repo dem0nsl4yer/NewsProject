{
 "cells": [
  {
   "cell_type": "code",
   "execution_count": 5,
   "id": "63fdba34",
   "metadata": {},
   "outputs": [],
   "source": [
    "from newsapi import NewsApiClient\n",
    "\n"
   ]
  },
  {
   "cell_type": "code",
   "execution_count": 6,
   "id": "e8586fed",
   "metadata": {},
   "outputs": [],
   "source": [
    "# Init\n",
    "newsapi = NewsApiClient(api_key='fd0c15fc59bb470f87fc676bce65dde7')\n",
    "\n"
   ]
  },
  {
   "cell_type": "code",
   "execution_count": 7,
   "id": "d5c57192",
   "metadata": {},
   "outputs": [],
   "source": [
    "# /v2/top-headlines\n",
    "top_headlines = newsapi.get_top_headlines(q='bitcoin',\n",
    "                                          #sources='bbc-news,the-verge',\n",
    "                                          #category='business',\n",
    "                                          language='en',\n",
    "                                          country='us')\n",
    "\n"
   ]
  },
  {
   "cell_type": "code",
   "execution_count": 15,
   "id": "123f7b47",
   "metadata": {},
   "outputs": [],
   "source": [
    "# /v2/everything\n",
    "all_articles = newsapi.get_everything(q='bitcoin',\n",
    "                                      sources='bbc-news,the-verge',\n",
    "                                      domains='bbc.co.uk,techcrunch.com',\n",
    "                                      from_param='2023-02-17',\n",
    "                                      to='2023-12-12',\n",
    "                                      language='en',\n",
    "                                      sort_by='relevancy',\n",
    "                                      page=2)\n",
    "\n"
   ]
  },
  {
   "cell_type": "code",
   "execution_count": 10,
   "id": "63cbe566",
   "metadata": {},
   "outputs": [],
   "source": [
    "# /v2/top-headlines/sources\n",
    "sources = newsapi.get_sources()"
   ]
  },
  {
   "cell_type": "code",
   "execution_count": 11,
   "id": "0d0f3faa",
   "metadata": {},
   "outputs": [
    {
     "data": {
      "text/plain": [
       "{'status': 'ok', 'totalResults': 0, 'articles': []}"
      ]
     },
     "execution_count": 11,
     "metadata": {},
     "output_type": "execute_result"
    }
   ],
   "source": [
    "top_headlines"
   ]
  },
  {
   "cell_type": "code",
   "execution_count": 16,
   "id": "37d57e13",
   "metadata": {},
   "outputs": [
    {
     "data": {
      "text/plain": [
       "{'status': 'ok', 'totalResults': 22, 'articles': []}"
      ]
     },
     "execution_count": 16,
     "metadata": {},
     "output_type": "execute_result"
    }
   ],
   "source": [
    "all_articles"
   ]
  },
  {
   "cell_type": "code",
   "execution_count": 21,
   "id": "e3222fcd",
   "metadata": {},
   "outputs": [
    {
     "ename": "AttributeError",
     "evalue": "'dict' object has no attribute 'json'",
     "output_type": "error",
     "traceback": [
      "\u001b[0;31m---------------------------------------------------------------------------\u001b[0m",
      "\u001b[0;31mAttributeError\u001b[0m                            Traceback (most recent call last)",
      "\u001b[0;32m<ipython-input-21-edb85df6241a>\u001b[0m in \u001b[0;36m<module>\u001b[0;34m\u001b[0m\n\u001b[0;32m----> 1\u001b[0;31m \u001b[0mall_articles_open\u001b[0m \u001b[0;34m=\u001b[0m \u001b[0mall_articles\u001b[0m\u001b[0;34m.\u001b[0m\u001b[0mjson\u001b[0m\u001b[0;34m(\u001b[0m\u001b[0;34m)\u001b[0m\u001b[0;34m\u001b[0m\u001b[0;34m\u001b[0m\u001b[0m\n\u001b[0m",
      "\u001b[0;31mAttributeError\u001b[0m: 'dict' object has no attribute 'json'"
     ]
    }
   ],
   "source": [
    "all_articles_open = all_articles.json()"
   ]
  },
  {
   "cell_type": "code",
   "execution_count": 18,
   "id": "58268766",
   "metadata": {},
   "outputs": [],
   "source": [
    "# importing requests package\n",
    "import requests"
   ]
  },
  {
   "cell_type": "code",
   "execution_count": 23,
   "id": "334b4883",
   "metadata": {},
   "outputs": [],
   "source": [
    "def NewsFromBBC():\n",
    "     \n",
    "    # BBC news api\n",
    "    # following query parameters are used\n",
    "    # source, sortBy and apiKey\n",
    "    query_params = {\n",
    "      \"source\": \"bbc-news\",\n",
    "      \"sortBy\": \"top\",\n",
    "      \"apiKey\": \"4dbc17e007ab436fb66416009dfb59a8\"\n",
    "    }\n",
    "    main_url = \" https://newsapi.org/v1/articles\"\n",
    " \n",
    "    # fetching data in json format\n",
    "    res = requests.get(main_url, params=query_params)\n",
    "    open_bbc_page = res.json()\n",
    "    print(open_bbc_page)\n",
    "    # getting all articles in a string article\n",
    "    article = open_bbc_page[\"articles\"]\n",
    " \n",
    "    # empty list which will\n",
    "    # contain all trending news\n",
    "    results = []\n",
    "     \n",
    "    for ar in article:\n",
    "        results.append(ar[\"title\"])\n",
    "         \n",
    "    for i in range(len(results)):\n",
    "         \n",
    "        # printing all trending news\n",
    "        print(i + 1, results[i])\n",
    " \n",
    "    #to read the news out loud for us\n",
    "    from win32com.client import Dispatch\n",
    "    speak = Dispatch(\"SAPI.Spvoice\")\n",
    "    speak.Speak(results)                \n",
    " \n"
   ]
  },
  {
   "cell_type": "code",
   "execution_count": 24,
   "id": "b950a3f3",
   "metadata": {},
   "outputs": [
    {
     "name": "stdout",
     "output_type": "stream",
     "text": [
      "{'status': 'ok', 'source': 'bbc-news', 'sortBy': 'top', 'articles': [{'author': 'BBC News', 'title': 'Bakhmut: Russian casualties mount but tactics evolve', 'description': \"The BBC has been given access to positions held by Ukrainian army brigades defending Bakhmut's southern flank.\", 'url': 'http://www.bbc.co.uk/news/world-europe-64955537', 'urlToImage': 'https://ichef.bbci.co.uk/news/1024/branded_news/BD9A/production/_128983584_4c1111bb-eae2-430a-92a1-984cc167220d.jpg', 'publishedAt': None}, {'author': 'BBC News', 'title': 'Asia markets fall as global banking fears widen', 'description': 'Indexes in Japan, Hong Kong and Australia fall by more than 1% amid heavier losses in bank shares.', 'url': 'http://www.bbc.co.uk/news/business-64973321', 'urlToImage': 'https://ichef.bbci.co.uk/news/1024/branded_news/17B56/production/_129001179_b23c01414ea4f05725b2b52f067f1ebfe810f9d4.png', 'publishedAt': None}, {'author': 'BBC News', 'title': 'Credit Suisse to borrow up to $54bn from Swiss central bank', 'description': \"A slump in the troubled lender's shares has intensified fears about a broader bank crisis.\", 'url': 'http://www.bbc.co.uk/news/business-64964881', 'urlToImage': 'https://ichef.bbci.co.uk/news/1024/branded_news/F18F/production/_128993816_whatsubject.jpg', 'publishedAt': None}, {'author': 'BBC News', 'title': \"South Korea and Japan: A 'milestone' meeting of frenemies\", 'description': 'BBC correspondents explain why historic rivals are trying to rebuild trust - and who stands to gain.', 'url': 'http://www.bbc.co.uk/news/world-asia-64962733', 'urlToImage': 'https://ichef.bbci.co.uk/news/1024/branded_news/BF68/production/_108300094_tv055475871.jpg', 'publishedAt': None}, {'author': 'BBC News', 'title': 'Chat GPT4: Is the world prepared for the coming AI storm?', 'description': 'Artificial intelligence will radically change our lives, for better and worse. Experts are worried.', 'url': 'http://www.bbc.co.uk/news/world-us-canada-64967627', 'urlToImage': 'https://ichef.bbci.co.uk/news/1024/branded_news/12C4E/production/_128987867_gettyimages-1472810844.jpg', 'publishedAt': None}, {'author': 'BBC News', 'title': \"'Big Ugly Diamond' discovered by Arkansas state park visitor\", 'description': \"It's large, but not as large as other diamonds visitors have found in this unique crater\", 'url': 'http://www.bbc.co.uk/news/world-us-canada-64972005', 'urlToImage': 'https://ichef.bbci.co.uk/news/1024/branded_news/10CC/production/_129000340_dsc_0721web.jpg', 'publishedAt': None}, {'author': 'BBC News', 'title': \"Evacuated Afghan women's team included 'false' footballers\", 'description': 'Women footballers evacuated to the UK included some who were not the top players it was claimed.', 'url': 'http://www.bbc.co.uk/news/world-64967941', 'urlToImage': 'https://ichef.bbci.co.uk/news/1024/branded_news/12B05/production/_128994567_afghanfootballer.jpg', 'publishedAt': None}, {'author': 'BBC News', 'title': 'San Francisco reparations plan proposes $5m for black residents', 'description': 'Under the reparations plan, the city is also considering homes in San Francisco for $1 per family.', 'url': 'http://www.bbc.co.uk/news/world-us-canada-64965277', 'urlToImage': 'https://ichef.bbci.co.uk/news/1024/branded_news/1519D/production/_128992468_gettyimages-1243475910.jpg', 'publishedAt': None}, {'author': 'BBC News', 'title': 'SpiceJet: India pilots grounded for coffee cup in cockpit', 'description': 'Two pilots have been taken off duty for having coffee and snacks inside the cockpit of a SpiceJet flight.', 'url': 'http://www.bbc.co.uk/news/world-asia-india-64948054', 'urlToImage': 'https://ichef.bbci.co.uk/news/1024/branded_news/960A/production/_129001483_capture.png', 'publishedAt': None}, {'author': 'BBC News', 'title': 'US threatens TikTok ban if app is not sold - report', 'description': 'TikTok, owed by Chinese firm ByteDance, says it has been contacted about a change in ownership.', 'url': 'http://www.bbc.co.uk/news/technology-64973156', 'urlToImage': 'https://ichef.bbci.co.uk/news/1024/branded_news/11C41/production/_127996727_gettyimages-1438609724.jpg', 'publishedAt': None}]}\n",
      "1 Bakhmut: Russian casualties mount but tactics evolve\n",
      "2 Asia markets fall as global banking fears widen\n",
      "3 Credit Suisse to borrow up to $54bn from Swiss central bank\n",
      "4 South Korea and Japan: A 'milestone' meeting of frenemies\n",
      "5 Chat GPT4: Is the world prepared for the coming AI storm?\n",
      "6 'Big Ugly Diamond' discovered by Arkansas state park visitor\n",
      "7 Evacuated Afghan women's team included 'false' footballers\n",
      "8 San Francisco reparations plan proposes $5m for black residents\n",
      "9 SpiceJet: India pilots grounded for coffee cup in cockpit\n",
      "10 US threatens TikTok ban if app is not sold - report\n"
     ]
    },
    {
     "ename": "ModuleNotFoundError",
     "evalue": "No module named 'win32com'",
     "output_type": "error",
     "traceback": [
      "\u001b[0;31m---------------------------------------------------------------------------\u001b[0m",
      "\u001b[0;31mModuleNotFoundError\u001b[0m                       Traceback (most recent call last)",
      "\u001b[0;32m<ipython-input-24-82b5cab8e244>\u001b[0m in \u001b[0;36m<module>\u001b[0;34m\u001b[0m\n\u001b[1;32m      3\u001b[0m \u001b[0;34m\u001b[0m\u001b[0m\n\u001b[1;32m      4\u001b[0m     \u001b[0;31m# function call\u001b[0m\u001b[0;34m\u001b[0m\u001b[0;34m\u001b[0m\u001b[0;34m\u001b[0m\u001b[0m\n\u001b[0;32m----> 5\u001b[0;31m     \u001b[0mNewsFromBBC\u001b[0m\u001b[0;34m(\u001b[0m\u001b[0;34m)\u001b[0m\u001b[0;34m\u001b[0m\u001b[0;34m\u001b[0m\u001b[0m\n\u001b[0m",
      "\u001b[0;32m<ipython-input-23-b022a572c327>\u001b[0m in \u001b[0;36mNewsFromBBC\u001b[0;34m()\u001b[0m\n\u001b[1;32m     31\u001b[0m \u001b[0;34m\u001b[0m\u001b[0m\n\u001b[1;32m     32\u001b[0m     \u001b[0;31m#to read the news out loud for us\u001b[0m\u001b[0;34m\u001b[0m\u001b[0;34m\u001b[0m\u001b[0;34m\u001b[0m\u001b[0m\n\u001b[0;32m---> 33\u001b[0;31m     \u001b[0;32mfrom\u001b[0m \u001b[0mwin32com\u001b[0m\u001b[0;34m.\u001b[0m\u001b[0mclient\u001b[0m \u001b[0;32mimport\u001b[0m \u001b[0mDispatch\u001b[0m\u001b[0;34m\u001b[0m\u001b[0;34m\u001b[0m\u001b[0m\n\u001b[0m\u001b[1;32m     34\u001b[0m     \u001b[0mspeak\u001b[0m \u001b[0;34m=\u001b[0m \u001b[0mDispatch\u001b[0m\u001b[0;34m(\u001b[0m\u001b[0;34m\"SAPI.Spvoice\"\u001b[0m\u001b[0;34m)\u001b[0m\u001b[0;34m\u001b[0m\u001b[0;34m\u001b[0m\u001b[0m\n\u001b[1;32m     35\u001b[0m     \u001b[0mspeak\u001b[0m\u001b[0;34m.\u001b[0m\u001b[0mSpeak\u001b[0m\u001b[0;34m(\u001b[0m\u001b[0mresults\u001b[0m\u001b[0;34m)\u001b[0m\u001b[0;34m\u001b[0m\u001b[0;34m\u001b[0m\u001b[0m\n",
      "\u001b[0;31mModuleNotFoundError\u001b[0m: No module named 'win32com'"
     ]
    }
   ],
   "source": [
    "# Driver Code\n",
    "if __name__ == '__main__':\n",
    "     \n",
    "    # function call\n",
    "    NewsFromBBC()"
   ]
  },
  {
   "cell_type": "code",
   "execution_count": 38,
   "id": "6e052df0",
   "metadata": {},
   "outputs": [
    {
     "name": "stdout",
     "output_type": "stream",
     "text": [
      "Country: India\n"
     ]
    }
   ],
   "source": [
    "from newsapi import NewsApiClient\n",
    "import pycountry\n",
    " \n",
    "# you have to get your api key from newapi.com and then paste it below\n",
    "newsapi = NewsApiClient(api_key='Your API Key')\n",
    " \n",
    "# now we will take name of country from user as input\n",
    "input_country = input(\"Country: \")\n",
    "input_countries = [f'{input_country.strip()}']\n",
    "countries = {}\n",
    " \n"
   ]
  },
  {
   "cell_type": "code",
   "execution_count": 41,
   "id": "90bdac13",
   "metadata": {},
   "outputs": [],
   "source": [
    "# iterate over all the countries in\n",
    "# the world using pycountry module\n",
    "for country in pycountry.countries:\n",
    " \n",
    "    # and store the unique code of each country\n",
    "    # in the dictionary along with it's full name\n",
    "    countries[country.name] = country.alpha_2\n",
    "\n",
    "# now we will check that the entered country name is\n",
    "# valid or invalid using the unique code\n",
    "codes = [countries.get(country.title(), 'Unknown code')\n",
    "         for country in input_countries]\n",
    " \n"
   ]
  },
  {
   "cell_type": "code",
   "execution_count": 45,
   "id": "d8f31aac",
   "metadata": {},
   "outputs": [
    {
     "ename": "SyntaxError",
     "evalue": "'continue' not properly in loop (<ipython-input-45-b6f7500ce750>, line 29)",
     "output_type": "error",
     "traceback": [
      "\u001b[0;36m  File \u001b[0;32m\"<ipython-input-45-b6f7500ce750>\"\u001b[0;36m, line \u001b[0;32m29\u001b[0m\n\u001b[0;31mSyntaxError\u001b[0m\u001b[0;31m:\u001b[0m 'continue' not properly in loop\n"
     ]
    }
   ],
   "source": [
    "# now we have to display all the categories from which user will\n",
    "# decide and enter the name of that category\n",
    "option = input(\"Which category are you interested in?\\n1.Business\\n2.Entertainment\\n3.General\\n4.Health\\n5.Science\\n6.Technology\\n\\nEnter here: \")\n",
    " \n",
    "# now we will fetch the new according to the choice of the user\n",
    "top_headlines = newsapi.get_top_headlines(\n",
    " \n",
    "# getting top headlines from all the news channels\n",
    "category=f'{option.lower()}', language='en', country=f'{codes[0].lower()}')\n",
    " \n",
    "# fetch the top news under that category\n",
    "Headlines = top_headlines['articles']\n",
    " # now we will display the that news with a good readability for user\n",
    "if Headlines:\n",
    "    for articles in Headlines:\n",
    "        b = articles['title'][::-1].index(\"-\")\n",
    "        if \"news\" in (articles['title'][-b+1:]).lower():\n",
    "            print(f\"{articles['title'][-b+1:]}: {articles['title'][:-b-2]}.\")\n",
    "        else:\n",
    "                print(f\"{articles['title'][-b+1:]} News: {articles['title'][:-b-2]}.\")\n",
    "else:\n",
    "    print(\n",
    "        f\"Sorry no articles found for {input_country}, Something Wrong!!!\")\n",
    "option = input(\"Do you want to search again[Yes/No]?\")\n",
    "if option.lower() == 'yes':\n",
    "    continue\n",
    "else:\n",
    "    exit()\n"
   ]
  },
  {
   "cell_type": "code",
   "execution_count": 49,
   "id": "e09b2aae",
   "metadata": {},
   "outputs": [
    {
     "name": "stdout",
     "output_type": "stream",
     "text": [
      "{'articles': [{'author': 'ZEIT ONLINE: News -',\n",
      "               'content': 'When browsing with ads:\\r\\n'\n",
      "                          'We collect personal data and also transmit it to '\n",
      "                          'third-party providers\\r\\n'\n",
      "                          ' that help us improve and finance our digital '\n",
      "                          'content. Some of the information stored on your '\n",
      "                          'device, … [+732 chars]',\n",
      "               'description': '',\n",
      "               'publishedAt': '2023-02-20T09:57:05Z',\n",
      "               'source': {'id': 'die-zeit', 'name': 'Die Zeit'},\n",
      "               'title': 'Desinformation: Trolle: Merkel telefonierte mit '\n",
      "                        'falschem Poroschenko',\n",
      "               'url': 'https://www.zeit.de/zustimmung?url=https%3A%2F%2Fwww.zeit.de%2Fnews%2F2023-02%2F20%2Ftrolle-merkel-telefonierte-mit-falschem-poroschenko',\n",
      "               'urlToImage': None}],\n",
      " 'status': 'ok',\n",
      " 'totalResults': 1208}\n"
     ]
    }
   ],
   "source": [
    "import pprint\n",
    "import requests\n",
    " \n",
    " \n",
    "secret = \"fd0c15fc59bb470f87fc676bce65dde7\"\n",
    "  \n",
    "# Define the endpoint\n",
    "url = 'https://newsapi.org/v2/everything?'\n",
    "  \n",
    "# Specify the query and\n",
    "# number of returns\n",
    "parameters = {\n",
    "    'q': 'merkel', # query phrase\n",
    "    'pageSize': 1,  # maximum is 100\n",
    "    'apiKey': secret # your own API key\n",
    "}\n",
    "  \n",
    "# Make the request\n",
    "response = requests.get(url,\n",
    "                        params = parameters)\n",
    "  \n",
    "# Convert the response to\n",
    "# JSON format and pretty print it\n",
    "response_json = response.json()\n",
    "pprint.pprint(response_json)"
   ]
  },
  {
   "cell_type": "code",
   "execution_count": null,
   "id": "78104c46",
   "metadata": {},
   "outputs": [],
   "source": []
  }
 ],
 "metadata": {
  "kernelspec": {
   "display_name": "Python 3",
   "language": "python",
   "name": "python3"
  },
  "language_info": {
   "codemirror_mode": {
    "name": "ipython",
    "version": 3
   },
   "file_extension": ".py",
   "mimetype": "text/x-python",
   "name": "python",
   "nbconvert_exporter": "python",
   "pygments_lexer": "ipython3",
   "version": "3.6.13"
  }
 },
 "nbformat": 4,
 "nbformat_minor": 5
}
