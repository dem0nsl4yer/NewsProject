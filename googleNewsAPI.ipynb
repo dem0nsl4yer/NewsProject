{
 "cells": [
  {
   "cell_type": "code",
   "execution_count": 2,
   "id": "df2c5697",
   "metadata": {},
   "outputs": [
    {
     "data": {
      "text/plain": [
       "[{'title': 'Rajesh Gopinathan resigns from TCS; Who is K Krithivasan, the new CEO-designate - Hindustan Times',\n",
       "  'link': 'https://news.google.com/rss/articles/CBMiiQFodHRwczovL3d3dy5oaW5kdXN0YW50aW1lcy5jb20vYnVzaW5lc3MvcmFqZXNoLWdvcGluYXRoYW4tcmVzaWducy1mcm9tLXRjcy13aG8taXMtay1rcml0aGl2YXNhbi10aGUtbmV3LWNlb2Rlc2lnbmF0ZS0xMDE2NzkwMjY2NDgzNDAuaHRtbNIBjQFodHRwczovL3d3dy5oaW5kdXN0YW50aW1lcy5jb20vYnVzaW5lc3MvcmFqZXNoLWdvcGluYXRoYW4tcmVzaWducy1mcm9tLXRjcy13aG8taXMtay1rcml0aGl2YXNhbi10aGUtbmV3LWNlb2Rlc2lnbmF0ZS0xMDE2NzkwMjY2NDgzNDAtYW1wLmh0bWw?oc=5',\n",
       "  'media': None},\n",
       " {'title': 'RBI keeps close watch on Credit Suisse crisis - Economic Times',\n",
       "  'link': 'https://news.google.com/rss/articles/CBMijAFodHRwczovL2Vjb25vbWljdGltZXMuaW5kaWF0aW1lcy5jb20vaW5kdXN0cnkvYmFua2luZy9maW5hbmNlL2JhbmtpbmcvcmJpLWtlZXBzLWNsb3NlLXdhdGNoLW9uLWNyZWRpdC1zdWlzc2UtY3Jpc2lzL2FydGljbGVzaG93Lzk4NzE4NzEwLmNtc9IBAA?oc=5',\n",
       "  'media': None},\n",
       " {'title': 'Global Banking Crisis: Is Credit Suisse Next? | Vantage with Palki Sharma - Firstpost',\n",
       "  'link': 'https://news.google.com/rss/articles/CCAiC3J4R1dLZ2c4eW5ZmAEB?oc=5',\n",
       "  'media': None},\n",
       " {'title': 'PhonePe racks up additional $200 million from Walmart in ongoing fundraise - The Economic Times',\n",
       "  'link': 'https://news.google.com/rss/articles/CBMiiwFodHRwczovL20uZWNvbm9taWN0aW1lcy5jb20vdGVjaC9mdW5kaW5nL3Bob25lcGUtcmFja3MtdXAtYWRkaXRpb25hbC0yMDAtbWlsbGlvbi1mcm9tLXdhbG1hcnQtaW4tb25nb2luZy1mdW5kcmFpc2UvYXJ0aWNsZXNob3cvOTg3MjM0MzMuY21z0gGPAWh0dHBzOi8vbS5lY29ub21pY3RpbWVzLmNvbS90ZWNoL2Z1bmRpbmcvcGhvbmVwZS1yYWNrcy11cC1hZGRpdGlvbmFsLTIwMC1taWxsaW9uLWZyb20td2FsbWFydC1pbi1vbmdvaW5nLWZ1bmRyYWlzZS9hbXBfYXJ0aWNsZXNob3cvOTg3MjM0MzMuY21z?oc=5',\n",
       "  'media': None},\n",
       " {'title': 'Share Market LIVE: Nifty jumps above 17000, Sensex gains 150 pts; Bank Nifty near day’s low, Adani stocks surge - The Financial Express',\n",
       "  'link': 'https://news.google.com/rss/articles/CBMinwFodHRwczovL3d3dy5maW5hbmNpYWxleHByZXNzLmNvbS9tYXJrZXQvc2hhcmUtbWFya2V0LXRvZGF5LWxpdmUtdXBkYXRlcy1zZW5zZXgtbmlmdHktcnVwZWUtdnMtZG9sbGFyLWFzaWEtdXMtbWFya2V0cy1hZGFuaS1zaGFyZS1wcmljZS1mcmlkYXktMTctbWFyY2gvMzAxMjYxNS_SAaQBaHR0cHM6Ly93d3cuZmluYW5jaWFsZXhwcmVzcy5jb20vbWFya2V0L3NoYXJlLW1hcmtldC10b2RheS1saXZlLXVwZGF0ZXMtc2Vuc2V4LW5pZnR5LXJ1cGVlLXZzLWRvbGxhci1hc2lhLXVzLW1hcmtldHMtYWRhbmktc2hhcmUtcHJpY2UtZnJpZGF5LTE3LW1hcmNoLzMwMTI2MTUvbGl0ZS8?oc=5',\n",
       "  'media': None}]"
      ]
     },
     "execution_count": 2,
     "metadata": {},
     "output_type": "execute_result"
    }
   ],
   "source": [
    "\n",
    "# import module\n",
    "from gnewsclient import gnewsclient\n",
    " \n",
    "# declare a NewsClient object\n",
    "client = gnewsclient.NewsClient(language='english', location='india', topic='Business', max_results=5)\n",
    " \n",
    "# get news feed\n",
    "client.get_news()"
   ]
  },
  {
   "cell_type": "code",
   "execution_count": 3,
   "id": "3dd730a7",
   "metadata": {},
   "outputs": [],
   "source": [
    "# import modules\n",
    "from tkinter import *\n",
    "from gnewsclient import gnewsclient\n",
    " \n",
    "# defined functions\n",
    "def news():\n",
    "    client = gnewsclient.NewsClient(\n",
    "        language=lang.get(), location=loc.get(), topic=top.get(), max_results=3)\n",
    "    news_list = client.get_news()\n",
    "    result_title.set(news_list[0][\"title\"] + \"\\n\" +\n",
    "                     news_list[1][\"title\"] + \"\\n\" + news_list[2][\"title\"])\n",
    " \n",
    " \n",
    "# tkinter object\n",
    "master = Tk()\n",
    "master.title(\"NEWS\")\n",
    " \n",
    "# background set to grey\n",
    "master.configure(bg='light grey')\n",
    " \n",
    "# Variable Classes in tkinter\n",
    "result_title = StringVar()\n",
    "result_link = StringVar()\n",
    " \n",
    "# Creating label for each information\n",
    "# name using widget Label\n",
    "Label(master, text=\"Choose language :\", bg=\"light grey\").grid(row=0, sticky=W)\n",
    "Label(master, text=\"Choose Location :\", bg=\"light grey\").grid(row=1, sticky=W)\n",
    "Label(master, text=\"Choose Topic :\", bg=\"light grey\").grid(row=2, sticky=W)\n",
    "\n",
    "\n",
    "lang = Entry(master)\n",
    "lang.grid(row=0, column=1)\n",
    " \n",
    "loc = Entry(master)\n",
    "loc.grid(row=1, column=1)\n",
    " \n",
    "top = Entry(master)\n",
    "top.grid(row=2, column=1)\n",
    " \n",
    "# Creating label for class variable\n",
    "# name using widget Entry\n",
    "Label(master, text=\"\", textvariable=result_title,\n",
    "      bg=\"light grey\").grid(row=3, column=1, sticky=W)\n",
    " \n",
    "# creating a button using the widget\n",
    "# Button to call the submit function\n",
    "Button(master, text=\"SHOW\", command=news, bg=\"white\").grid(row=1, column=3)\n",
    " \n",
    "mainloop()"
   ]
  },
  {
   "cell_type": "code",
   "execution_count": null,
   "id": "57cae12b",
   "metadata": {},
   "outputs": [],
   "source": []
  }
 ],
 "metadata": {
  "kernelspec": {
   "display_name": "Python 3",
   "language": "python",
   "name": "python3"
  },
  "language_info": {
   "codemirror_mode": {
    "name": "ipython",
    "version": 3
   },
   "file_extension": ".py",
   "mimetype": "text/x-python",
   "name": "python",
   "nbconvert_exporter": "python",
   "pygments_lexer": "ipython3",
   "version": "3.6.13"
  }
 },
 "nbformat": 4,
 "nbformat_minor": 5
}
